{
 "cells": [
  {
   "cell_type": "code",
   "execution_count": 244,
   "metadata": {},
   "outputs": [],
   "source": [
    "import numpy as np\n",
    "import pandas as pd\n",
    "import matplotlib.pyplot as plt\n",
    "%matplotlib inline\n",
    "plt.style.use('ggplot')\n",
    "from IPython.display import display, HTML, display_html\n",
    "import seaborn as sns\n",
    "import datetime"
   ]
  },
  {
   "cell_type": "markdown",
   "metadata": {},
   "source": [
    "I obtained the data on daily spot price of crude oil between 1986-01-01 to 2018-11-05 from the Crude Oil Prices: West Texas Intermediate (WTI) - Cushing, Oklahoma https://fred.stlouisfed.org/series/DCOILWTICO . The data from 2018-11-06-2018-11-13 were obtained from bloomberg oil price data https://www.bnnbloomberg.ca/oil. The units of the price is Dollars per Barrel. The price was not seasonally Adjusted. Let's look at this data first. "
   ]
  },
  {
   "cell_type": "code",
   "execution_count": 251,
   "metadata": {},
   "outputs": [
    {
     "data": {
      "text/html": [
       "<div>\n",
       "<style scoped>\n",
       "    .dataframe tbody tr th:only-of-type {\n",
       "        vertical-align: middle;\n",
       "    }\n",
       "\n",
       "    .dataframe tbody tr th {\n",
       "        vertical-align: top;\n",
       "    }\n",
       "\n",
       "    .dataframe thead th {\n",
       "        text-align: right;\n",
       "    }\n",
       "</style>\n",
       "<table border=\"1\" class=\"dataframe\">\n",
       "  <thead>\n",
       "    <tr style=\"text-align: right;\">\n",
       "      <th></th>\n",
       "      <th>DATE</th>\n",
       "      <th>DCOILWTICO</th>\n",
       "    </tr>\n",
       "  </thead>\n",
       "  <tbody>\n",
       "    <tr>\n",
       "      <th>8569</th>\n",
       "      <td>2018-11-07</td>\n",
       "      <td>61.67</td>\n",
       "    </tr>\n",
       "    <tr>\n",
       "      <th>8570</th>\n",
       "      <td>2018-11-08</td>\n",
       "      <td>60.67</td>\n",
       "    </tr>\n",
       "    <tr>\n",
       "      <th>8571</th>\n",
       "      <td>2018-11-09</td>\n",
       "      <td>60.19</td>\n",
       "    </tr>\n",
       "    <tr>\n",
       "      <th>8572</th>\n",
       "      <td>2018-11-12</td>\n",
       "      <td>59.93</td>\n",
       "    </tr>\n",
       "    <tr>\n",
       "      <th>8573</th>\n",
       "      <td>2018-11-13</td>\n",
       "      <td>57.17</td>\n",
       "    </tr>\n",
       "  </tbody>\n",
       "</table>\n",
       "</div>"
      ],
      "text/plain": [
       "            DATE DCOILWTICO\n",
       "8569  2018-11-07      61.67\n",
       "8570  2018-11-08      60.67\n",
       "8571  2018-11-09      60.19\n",
       "8572  2018-11-12      59.93\n",
       "8573  2018-11-13      57.17"
      ]
     },
     "execution_count": 251,
     "metadata": {},
     "output_type": "execute_result"
    }
   ],
   "source": [
    "# read in WTI data on crude oil price\n",
    "oilwti = pd.read_csv('DCOILWTICO.csv')\n",
    "oilwti.head()\n",
    "oilwti.tail()"
   ]
  },
  {
   "cell_type": "code",
   "execution_count": 252,
   "metadata": {},
   "outputs": [
    {
     "name": "stdout",
     "output_type": "stream",
     "text": [
      "<class 'pandas.core.frame.DataFrame'>\n",
      "RangeIndex: 8574 entries, 0 to 8573\n",
      "Data columns (total 2 columns):\n",
      "DATE          8574 non-null object\n",
      "DCOILWTICO    8574 non-null object\n",
      "dtypes: object(2)\n",
      "memory usage: 134.0+ KB\n"
     ]
    }
   ],
   "source": [
    "#check data types \n",
    "oilwti.info()"
   ]
  },
  {
   "cell_type": "code",
   "execution_count": 253,
   "metadata": {},
   "outputs": [],
   "source": [
    "# rename the variables\n",
    "oilwti = oilwti.rename(columns = {'DATE': 'date', 'DCOILWTICO': 'price'})"
   ]
  },
  {
   "cell_type": "markdown",
   "metadata": {},
   "source": [
    "When trying to transform the data type of price from object to numeric, I got warning that character \".\" cannot be changed to float. So let's replace all the \".\" by NA first and change the price to numeric type.  "
   ]
  },
  {
   "cell_type": "code",
   "execution_count": 254,
   "metadata": {},
   "outputs": [],
   "source": [
    "oilwti.replace(to_replace='.', value=np.nan, inplace=True)\n",
    "oilwti['price'] = oilwti['price'].astype(np.float64)"
   ]
  },
  {
   "cell_type": "code",
   "execution_count": 255,
   "metadata": {},
   "outputs": [
    {
     "data": {
      "text/plain": [
       "date       0\n",
       "price    284\n",
       "dtype: int64"
      ]
     },
     "execution_count": 255,
     "metadata": {},
     "output_type": "execute_result"
    }
   ],
   "source": [
    "# count the total missing data \n",
    "oilwti.isnull().sum()"
   ]
  },
  {
   "cell_type": "code",
   "execution_count": 239,
   "metadata": {},
   "outputs": [
    {
     "data": {
      "text/html": [
       "<div>\n",
       "<style scoped>\n",
       "    .dataframe tbody tr th:only-of-type {\n",
       "        vertical-align: middle;\n",
       "    }\n",
       "\n",
       "    .dataframe tbody tr th {\n",
       "        vertical-align: top;\n",
       "    }\n",
       "\n",
       "    .dataframe thead th {\n",
       "        text-align: right;\n",
       "    }\n",
       "</style>\n",
       "<table border=\"1\" class=\"dataframe\">\n",
       "  <thead>\n",
       "    <tr style=\"text-align: right;\">\n",
       "      <th></th>\n",
       "      <th>date</th>\n",
       "      <th>price</th>\n",
       "    </tr>\n",
       "  </thead>\n",
       "  <tbody>\n",
       "    <tr>\n",
       "      <th>32</th>\n",
       "      <td>86-02-17</td>\n",
       "      <td>NaN</td>\n",
       "    </tr>\n",
       "    <tr>\n",
       "      <th>61</th>\n",
       "      <td>86-03-28</td>\n",
       "      <td>NaN</td>\n",
       "    </tr>\n",
       "    <tr>\n",
       "      <th>102</th>\n",
       "      <td>86-05-26</td>\n",
       "      <td>NaN</td>\n",
       "    </tr>\n",
       "    <tr>\n",
       "      <th>131</th>\n",
       "      <td>86-07-04</td>\n",
       "      <td>NaN</td>\n",
       "    </tr>\n",
       "    <tr>\n",
       "      <th>172</th>\n",
       "      <td>86-09-01</td>\n",
       "      <td>NaN</td>\n",
       "    </tr>\n",
       "    <tr>\n",
       "      <th>202</th>\n",
       "      <td>86-10-13</td>\n",
       "      <td>NaN</td>\n",
       "    </tr>\n",
       "    <tr>\n",
       "      <th>235</th>\n",
       "      <td>86-11-27</td>\n",
       "      <td>NaN</td>\n",
       "    </tr>\n",
       "    <tr>\n",
       "      <th>255</th>\n",
       "      <td>86-12-25</td>\n",
       "      <td>NaN</td>\n",
       "    </tr>\n",
       "    <tr>\n",
       "      <th>256</th>\n",
       "      <td>86-12-26</td>\n",
       "      <td>NaN</td>\n",
       "    </tr>\n",
       "    <tr>\n",
       "      <th>260</th>\n",
       "      <td>87-01-01</td>\n",
       "      <td>NaN</td>\n",
       "    </tr>\n",
       "    <tr>\n",
       "      <th>292</th>\n",
       "      <td>87-02-16</td>\n",
       "      <td>NaN</td>\n",
       "    </tr>\n",
       "    <tr>\n",
       "      <th>318</th>\n",
       "      <td>87-03-24</td>\n",
       "      <td>NaN</td>\n",
       "    </tr>\n",
       "    <tr>\n",
       "      <th>336</th>\n",
       "      <td>87-04-17</td>\n",
       "      <td>NaN</td>\n",
       "    </tr>\n",
       "    <tr>\n",
       "      <th>362</th>\n",
       "      <td>87-05-25</td>\n",
       "      <td>NaN</td>\n",
       "    </tr>\n",
       "    <tr>\n",
       "      <th>495</th>\n",
       "      <td>87-11-26</td>\n",
       "      <td>NaN</td>\n",
       "    </tr>\n",
       "    <tr>\n",
       "      <th>516</th>\n",
       "      <td>87-12-25</td>\n",
       "      <td>NaN</td>\n",
       "    </tr>\n",
       "    <tr>\n",
       "      <th>521</th>\n",
       "      <td>88-01-01</td>\n",
       "      <td>NaN</td>\n",
       "    </tr>\n",
       "    <tr>\n",
       "      <th>586</th>\n",
       "      <td>88-04-01</td>\n",
       "      <td>NaN</td>\n",
       "    </tr>\n",
       "    <tr>\n",
       "      <th>652</th>\n",
       "      <td>88-07-04</td>\n",
       "      <td>NaN</td>\n",
       "    </tr>\n",
       "    <tr>\n",
       "      <th>777</th>\n",
       "      <td>88-12-26</td>\n",
       "      <td>NaN</td>\n",
       "    </tr>\n",
       "    <tr>\n",
       "      <th>782</th>\n",
       "      <td>89-01-02</td>\n",
       "      <td>NaN</td>\n",
       "    </tr>\n",
       "    <tr>\n",
       "      <th>841</th>\n",
       "      <td>89-03-24</td>\n",
       "      <td>NaN</td>\n",
       "    </tr>\n",
       "    <tr>\n",
       "      <th>1037</th>\n",
       "      <td>89-12-25</td>\n",
       "      <td>NaN</td>\n",
       "    </tr>\n",
       "    <tr>\n",
       "      <th>1042</th>\n",
       "      <td>90-01-01</td>\n",
       "      <td>NaN</td>\n",
       "    </tr>\n",
       "    <tr>\n",
       "      <th>1116</th>\n",
       "      <td>90-04-13</td>\n",
       "      <td>NaN</td>\n",
       "    </tr>\n",
       "    <tr>\n",
       "      <th>1147</th>\n",
       "      <td>90-05-28</td>\n",
       "      <td>NaN</td>\n",
       "    </tr>\n",
       "    <tr>\n",
       "      <th>1298</th>\n",
       "      <td>90-12-25</td>\n",
       "      <td>NaN</td>\n",
       "    </tr>\n",
       "    <tr>\n",
       "      <th>1303</th>\n",
       "      <td>91-01-01</td>\n",
       "      <td>NaN</td>\n",
       "    </tr>\n",
       "    <tr>\n",
       "      <th>1366</th>\n",
       "      <td>91-03-29</td>\n",
       "      <td>NaN</td>\n",
       "    </tr>\n",
       "    <tr>\n",
       "      <th>1407</th>\n",
       "      <td>91-05-27</td>\n",
       "      <td>NaN</td>\n",
       "    </tr>\n",
       "    <tr>\n",
       "      <th>1477</th>\n",
       "      <td>91-09-02</td>\n",
       "      <td>NaN</td>\n",
       "    </tr>\n",
       "    <tr>\n",
       "      <th>1559</th>\n",
       "      <td>91-12-25</td>\n",
       "      <td>NaN</td>\n",
       "    </tr>\n",
       "    <tr>\n",
       "      <th>1564</th>\n",
       "      <td>92-01-01</td>\n",
       "      <td>NaN</td>\n",
       "    </tr>\n",
       "    <tr>\n",
       "      <th>1641</th>\n",
       "      <td>92-04-17</td>\n",
       "      <td>NaN</td>\n",
       "    </tr>\n",
       "    <tr>\n",
       "      <th>1667</th>\n",
       "      <td>92-05-25</td>\n",
       "      <td>NaN</td>\n",
       "    </tr>\n",
       "    <tr>\n",
       "      <th>1800</th>\n",
       "      <td>92-11-26</td>\n",
       "      <td>NaN</td>\n",
       "    </tr>\n",
       "    <tr>\n",
       "      <th>1821</th>\n",
       "      <td>92-12-25</td>\n",
       "      <td>NaN</td>\n",
       "    </tr>\n",
       "    <tr>\n",
       "      <th>1826</th>\n",
       "      <td>93-01-01</td>\n",
       "      <td>NaN</td>\n",
       "    </tr>\n",
       "    <tr>\n",
       "      <th>1849</th>\n",
       "      <td>93-02-03</td>\n",
       "      <td>NaN</td>\n",
       "    </tr>\n",
       "    <tr>\n",
       "      <th>1857</th>\n",
       "      <td>93-02-15</td>\n",
       "      <td>NaN</td>\n",
       "    </tr>\n",
       "    <tr>\n",
       "      <th>1896</th>\n",
       "      <td>93-04-09</td>\n",
       "      <td>NaN</td>\n",
       "    </tr>\n",
       "    <tr>\n",
       "      <th>1909</th>\n",
       "      <td>93-04-28</td>\n",
       "      <td>NaN</td>\n",
       "    </tr>\n",
       "    <tr>\n",
       "      <th>1932</th>\n",
       "      <td>93-05-31</td>\n",
       "      <td>NaN</td>\n",
       "    </tr>\n",
       "    <tr>\n",
       "      <th>1957</th>\n",
       "      <td>93-07-05</td>\n",
       "      <td>NaN</td>\n",
       "    </tr>\n",
       "    <tr>\n",
       "      <th>2002</th>\n",
       "      <td>93-09-06</td>\n",
       "      <td>NaN</td>\n",
       "    </tr>\n",
       "    <tr>\n",
       "      <th>2060</th>\n",
       "      <td>93-11-25</td>\n",
       "      <td>NaN</td>\n",
       "    </tr>\n",
       "    <tr>\n",
       "      <th>2081</th>\n",
       "      <td>93-12-24</td>\n",
       "      <td>NaN</td>\n",
       "    </tr>\n",
       "    <tr>\n",
       "      <th>2086</th>\n",
       "      <td>93-12-31</td>\n",
       "      <td>NaN</td>\n",
       "    </tr>\n",
       "    <tr>\n",
       "      <th>2122</th>\n",
       "      <td>94-02-21</td>\n",
       "      <td>NaN</td>\n",
       "    </tr>\n",
       "    <tr>\n",
       "      <th>2151</th>\n",
       "      <td>94-04-01</td>\n",
       "      <td>NaN</td>\n",
       "    </tr>\n",
       "    <tr>\n",
       "      <th>...</th>\n",
       "      <td>...</td>\n",
       "      <td>...</td>\n",
       "    </tr>\n",
       "    <tr>\n",
       "      <th>7106</th>\n",
       "      <td>13-03-29</td>\n",
       "      <td>NaN</td>\n",
       "    </tr>\n",
       "    <tr>\n",
       "      <th>7147</th>\n",
       "      <td>13-05-27</td>\n",
       "      <td>NaN</td>\n",
       "    </tr>\n",
       "    <tr>\n",
       "      <th>7175</th>\n",
       "      <td>13-07-04</td>\n",
       "      <td>NaN</td>\n",
       "    </tr>\n",
       "    <tr>\n",
       "      <th>7217</th>\n",
       "      <td>13-09-02</td>\n",
       "      <td>NaN</td>\n",
       "    </tr>\n",
       "    <tr>\n",
       "      <th>7280</th>\n",
       "      <td>13-11-28</td>\n",
       "      <td>NaN</td>\n",
       "    </tr>\n",
       "    <tr>\n",
       "      <th>7299</th>\n",
       "      <td>13-12-25</td>\n",
       "      <td>NaN</td>\n",
       "    </tr>\n",
       "    <tr>\n",
       "      <th>7304</th>\n",
       "      <td>14-01-01</td>\n",
       "      <td>NaN</td>\n",
       "    </tr>\n",
       "    <tr>\n",
       "      <th>7317</th>\n",
       "      <td>14-01-20</td>\n",
       "      <td>NaN</td>\n",
       "    </tr>\n",
       "    <tr>\n",
       "      <th>7337</th>\n",
       "      <td>14-02-17</td>\n",
       "      <td>NaN</td>\n",
       "    </tr>\n",
       "    <tr>\n",
       "      <th>7381</th>\n",
       "      <td>14-04-18</td>\n",
       "      <td>NaN</td>\n",
       "    </tr>\n",
       "    <tr>\n",
       "      <th>7407</th>\n",
       "      <td>14-05-26</td>\n",
       "      <td>NaN</td>\n",
       "    </tr>\n",
       "    <tr>\n",
       "      <th>7436</th>\n",
       "      <td>14-07-04</td>\n",
       "      <td>NaN</td>\n",
       "    </tr>\n",
       "    <tr>\n",
       "      <th>7477</th>\n",
       "      <td>14-09-01</td>\n",
       "      <td>NaN</td>\n",
       "    </tr>\n",
       "    <tr>\n",
       "      <th>7540</th>\n",
       "      <td>14-11-27</td>\n",
       "      <td>NaN</td>\n",
       "    </tr>\n",
       "    <tr>\n",
       "      <th>7560</th>\n",
       "      <td>14-12-25</td>\n",
       "      <td>NaN</td>\n",
       "    </tr>\n",
       "    <tr>\n",
       "      <th>7565</th>\n",
       "      <td>15-01-01</td>\n",
       "      <td>NaN</td>\n",
       "    </tr>\n",
       "    <tr>\n",
       "      <th>7577</th>\n",
       "      <td>15-01-19</td>\n",
       "      <td>NaN</td>\n",
       "    </tr>\n",
       "    <tr>\n",
       "      <th>7597</th>\n",
       "      <td>15-02-16</td>\n",
       "      <td>NaN</td>\n",
       "    </tr>\n",
       "    <tr>\n",
       "      <th>7631</th>\n",
       "      <td>15-04-03</td>\n",
       "      <td>NaN</td>\n",
       "    </tr>\n",
       "    <tr>\n",
       "      <th>7667</th>\n",
       "      <td>15-05-25</td>\n",
       "      <td>NaN</td>\n",
       "    </tr>\n",
       "    <tr>\n",
       "      <th>7696</th>\n",
       "      <td>15-07-03</td>\n",
       "      <td>NaN</td>\n",
       "    </tr>\n",
       "    <tr>\n",
       "      <th>7742</th>\n",
       "      <td>15-09-07</td>\n",
       "      <td>NaN</td>\n",
       "    </tr>\n",
       "    <tr>\n",
       "      <th>7800</th>\n",
       "      <td>15-11-26</td>\n",
       "      <td>NaN</td>\n",
       "    </tr>\n",
       "    <tr>\n",
       "      <th>7821</th>\n",
       "      <td>15-12-25</td>\n",
       "      <td>NaN</td>\n",
       "    </tr>\n",
       "    <tr>\n",
       "      <th>7826</th>\n",
       "      <td>16-01-01</td>\n",
       "      <td>NaN</td>\n",
       "    </tr>\n",
       "    <tr>\n",
       "      <th>7837</th>\n",
       "      <td>16-01-18</td>\n",
       "      <td>NaN</td>\n",
       "    </tr>\n",
       "    <tr>\n",
       "      <th>7857</th>\n",
       "      <td>16-02-15</td>\n",
       "      <td>NaN</td>\n",
       "    </tr>\n",
       "    <tr>\n",
       "      <th>7886</th>\n",
       "      <td>16-03-25</td>\n",
       "      <td>NaN</td>\n",
       "    </tr>\n",
       "    <tr>\n",
       "      <th>7932</th>\n",
       "      <td>16-05-30</td>\n",
       "      <td>NaN</td>\n",
       "    </tr>\n",
       "    <tr>\n",
       "      <th>7957</th>\n",
       "      <td>16-07-04</td>\n",
       "      <td>NaN</td>\n",
       "    </tr>\n",
       "    <tr>\n",
       "      <th>8002</th>\n",
       "      <td>16-09-05</td>\n",
       "      <td>NaN</td>\n",
       "    </tr>\n",
       "    <tr>\n",
       "      <th>8060</th>\n",
       "      <td>16-11-24</td>\n",
       "      <td>NaN</td>\n",
       "    </tr>\n",
       "    <tr>\n",
       "      <th>8082</th>\n",
       "      <td>16-12-26</td>\n",
       "      <td>NaN</td>\n",
       "    </tr>\n",
       "    <tr>\n",
       "      <th>8087</th>\n",
       "      <td>17-01-02</td>\n",
       "      <td>NaN</td>\n",
       "    </tr>\n",
       "    <tr>\n",
       "      <th>8097</th>\n",
       "      <td>17-01-16</td>\n",
       "      <td>NaN</td>\n",
       "    </tr>\n",
       "    <tr>\n",
       "      <th>8122</th>\n",
       "      <td>17-02-20</td>\n",
       "      <td>NaN</td>\n",
       "    </tr>\n",
       "    <tr>\n",
       "      <th>8161</th>\n",
       "      <td>17-04-14</td>\n",
       "      <td>NaN</td>\n",
       "    </tr>\n",
       "    <tr>\n",
       "      <th>8192</th>\n",
       "      <td>17-05-29</td>\n",
       "      <td>NaN</td>\n",
       "    </tr>\n",
       "    <tr>\n",
       "      <th>8217</th>\n",
       "      <td>17-07-03</td>\n",
       "      <td>NaN</td>\n",
       "    </tr>\n",
       "    <tr>\n",
       "      <th>8218</th>\n",
       "      <td>17-07-04</td>\n",
       "      <td>NaN</td>\n",
       "    </tr>\n",
       "    <tr>\n",
       "      <th>8262</th>\n",
       "      <td>17-09-04</td>\n",
       "      <td>NaN</td>\n",
       "    </tr>\n",
       "    <tr>\n",
       "      <th>8320</th>\n",
       "      <td>17-11-23</td>\n",
       "      <td>NaN</td>\n",
       "    </tr>\n",
       "    <tr>\n",
       "      <th>8342</th>\n",
       "      <td>17-12-25</td>\n",
       "      <td>NaN</td>\n",
       "    </tr>\n",
       "    <tr>\n",
       "      <th>8347</th>\n",
       "      <td>18-01-01</td>\n",
       "      <td>NaN</td>\n",
       "    </tr>\n",
       "    <tr>\n",
       "      <th>8357</th>\n",
       "      <td>18-01-15</td>\n",
       "      <td>NaN</td>\n",
       "    </tr>\n",
       "    <tr>\n",
       "      <th>8382</th>\n",
       "      <td>18-02-19</td>\n",
       "      <td>NaN</td>\n",
       "    </tr>\n",
       "    <tr>\n",
       "      <th>8411</th>\n",
       "      <td>18-03-30</td>\n",
       "      <td>NaN</td>\n",
       "    </tr>\n",
       "    <tr>\n",
       "      <th>8452</th>\n",
       "      <td>18-05-28</td>\n",
       "      <td>NaN</td>\n",
       "    </tr>\n",
       "    <tr>\n",
       "      <th>8479</th>\n",
       "      <td>18-07-04</td>\n",
       "      <td>NaN</td>\n",
       "    </tr>\n",
       "    <tr>\n",
       "      <th>8522</th>\n",
       "      <td>18-09-03</td>\n",
       "      <td>NaN</td>\n",
       "    </tr>\n",
       "  </tbody>\n",
       "</table>\n",
       "<p>284 rows × 2 columns</p>\n",
       "</div>"
      ],
      "text/plain": [
       "          date  price\n",
       "32    86-02-17    NaN\n",
       "61    86-03-28    NaN\n",
       "102   86-05-26    NaN\n",
       "131   86-07-04    NaN\n",
       "172   86-09-01    NaN\n",
       "202   86-10-13    NaN\n",
       "235   86-11-27    NaN\n",
       "255   86-12-25    NaN\n",
       "256   86-12-26    NaN\n",
       "260   87-01-01    NaN\n",
       "292   87-02-16    NaN\n",
       "318   87-03-24    NaN\n",
       "336   87-04-17    NaN\n",
       "362   87-05-25    NaN\n",
       "495   87-11-26    NaN\n",
       "516   87-12-25    NaN\n",
       "521   88-01-01    NaN\n",
       "586   88-04-01    NaN\n",
       "652   88-07-04    NaN\n",
       "777   88-12-26    NaN\n",
       "782   89-01-02    NaN\n",
       "841   89-03-24    NaN\n",
       "1037  89-12-25    NaN\n",
       "1042  90-01-01    NaN\n",
       "1116  90-04-13    NaN\n",
       "1147  90-05-28    NaN\n",
       "1298  90-12-25    NaN\n",
       "1303  91-01-01    NaN\n",
       "1366  91-03-29    NaN\n",
       "1407  91-05-27    NaN\n",
       "1477  91-09-02    NaN\n",
       "1559  91-12-25    NaN\n",
       "1564  92-01-01    NaN\n",
       "1641  92-04-17    NaN\n",
       "1667  92-05-25    NaN\n",
       "1800  92-11-26    NaN\n",
       "1821  92-12-25    NaN\n",
       "1826  93-01-01    NaN\n",
       "1849  93-02-03    NaN\n",
       "1857  93-02-15    NaN\n",
       "1896  93-04-09    NaN\n",
       "1909  93-04-28    NaN\n",
       "1932  93-05-31    NaN\n",
       "1957  93-07-05    NaN\n",
       "2002  93-09-06    NaN\n",
       "2060  93-11-25    NaN\n",
       "2081  93-12-24    NaN\n",
       "2086  93-12-31    NaN\n",
       "2122  94-02-21    NaN\n",
       "2151  94-04-01    NaN\n",
       "...        ...    ...\n",
       "7106  13-03-29    NaN\n",
       "7147  13-05-27    NaN\n",
       "7175  13-07-04    NaN\n",
       "7217  13-09-02    NaN\n",
       "7280  13-11-28    NaN\n",
       "7299  13-12-25    NaN\n",
       "7304  14-01-01    NaN\n",
       "7317  14-01-20    NaN\n",
       "7337  14-02-17    NaN\n",
       "7381  14-04-18    NaN\n",
       "7407  14-05-26    NaN\n",
       "7436  14-07-04    NaN\n",
       "7477  14-09-01    NaN\n",
       "7540  14-11-27    NaN\n",
       "7560  14-12-25    NaN\n",
       "7565  15-01-01    NaN\n",
       "7577  15-01-19    NaN\n",
       "7597  15-02-16    NaN\n",
       "7631  15-04-03    NaN\n",
       "7667  15-05-25    NaN\n",
       "7696  15-07-03    NaN\n",
       "7742  15-09-07    NaN\n",
       "7800  15-11-26    NaN\n",
       "7821  15-12-25    NaN\n",
       "7826  16-01-01    NaN\n",
       "7837  16-01-18    NaN\n",
       "7857  16-02-15    NaN\n",
       "7886  16-03-25    NaN\n",
       "7932  16-05-30    NaN\n",
       "7957  16-07-04    NaN\n",
       "8002  16-09-05    NaN\n",
       "8060  16-11-24    NaN\n",
       "8082  16-12-26    NaN\n",
       "8087  17-01-02    NaN\n",
       "8097  17-01-16    NaN\n",
       "8122  17-02-20    NaN\n",
       "8161  17-04-14    NaN\n",
       "8192  17-05-29    NaN\n",
       "8217  17-07-03    NaN\n",
       "8218  17-07-04    NaN\n",
       "8262  17-09-04    NaN\n",
       "8320  17-11-23    NaN\n",
       "8342  17-12-25    NaN\n",
       "8347  18-01-01    NaN\n",
       "8357  18-01-15    NaN\n",
       "8382  18-02-19    NaN\n",
       "8411  18-03-30    NaN\n",
       "8452  18-05-28    NaN\n",
       "8479  18-07-04    NaN\n",
       "8522  18-09-03    NaN\n",
       "\n",
       "[284 rows x 2 columns]"
      ]
     },
     "execution_count": 239,
     "metadata": {},
     "output_type": "execute_result"
    }
   ],
   "source": [
    "# print all the missing data\n",
    "oilwti[oilwti[\"price\"].isna()]"
   ]
  },
  {
   "cell_type": "markdown",
   "metadata": {},
   "source": [
    "There are in all 284 missing data in price. By looking at the date of these missing data, they all correspond to holidays in the US, which means the missingness are due to market close. To keep the data having a complete weekday observation pattern, I use the last observation carry forward to fill out the missing data. "
   ]
  },
  {
   "cell_type": "code",
   "execution_count": 256,
   "metadata": {},
   "outputs": [
    {
     "data": {
      "text/html": [
       "<div>\n",
       "<style scoped>\n",
       "    .dataframe tbody tr th:only-of-type {\n",
       "        vertical-align: middle;\n",
       "    }\n",
       "\n",
       "    .dataframe tbody tr th {\n",
       "        vertical-align: top;\n",
       "    }\n",
       "\n",
       "    .dataframe thead th {\n",
       "        text-align: right;\n",
       "    }\n",
       "</style>\n",
       "<table border=\"1\" class=\"dataframe\">\n",
       "  <thead>\n",
       "    <tr style=\"text-align: right;\">\n",
       "      <th></th>\n",
       "      <th>date</th>\n",
       "      <th>price</th>\n",
       "    </tr>\n",
       "  </thead>\n",
       "  <tbody>\n",
       "    <tr>\n",
       "      <th>8569</th>\n",
       "      <td>2018-11-07</td>\n",
       "      <td>61.67</td>\n",
       "    </tr>\n",
       "    <tr>\n",
       "      <th>8570</th>\n",
       "      <td>2018-11-08</td>\n",
       "      <td>60.67</td>\n",
       "    </tr>\n",
       "    <tr>\n",
       "      <th>8571</th>\n",
       "      <td>2018-11-09</td>\n",
       "      <td>60.19</td>\n",
       "    </tr>\n",
       "    <tr>\n",
       "      <th>8572</th>\n",
       "      <td>2018-11-12</td>\n",
       "      <td>59.93</td>\n",
       "    </tr>\n",
       "    <tr>\n",
       "      <th>8573</th>\n",
       "      <td>2018-11-13</td>\n",
       "      <td>57.17</td>\n",
       "    </tr>\n",
       "  </tbody>\n",
       "</table>\n",
       "</div>"
      ],
      "text/plain": [
       "            date  price\n",
       "8569  2018-11-07  61.67\n",
       "8570  2018-11-08  60.67\n",
       "8571  2018-11-09  60.19\n",
       "8572  2018-11-12  59.93\n",
       "8573  2018-11-13  57.17"
      ]
     },
     "execution_count": 256,
     "metadata": {},
     "output_type": "execute_result"
    }
   ],
   "source": [
    "oilwti = oilwti.fillna(method=\"ffill\")\n",
    "oilwti.isnull().sum()\n",
    "oilwti.head()\n",
    "oilwti.tail()"
   ]
  },
  {
   "cell_type": "code",
   "execution_count": 257,
   "metadata": {},
   "outputs": [],
   "source": [
    "# change the index to date\n",
    "oilwti['date'] = pd.to_datetime(oilwti['date'])\n",
    "oilwti.set_index('date', inplace=True)"
   ]
  },
  {
   "cell_type": "code",
   "execution_count": 269,
   "metadata": {},
   "outputs": [
    {
     "data": {
      "image/png": "[encoded data removed]",
      "text/plain": [
       "<Figure size 432x288 with 1 Axes>"
      ]
     },
     "metadata": {},
     "output_type": "display_data"
    }
   ],
   "source": [
    "# Plot time series data\n",
    "f, ax = plt.subplots(1,1)\n",
    "ax.plot(oilwti['price'])\n",
    "\n",
    "# Add title\n",
    "ax.set_title('Daily oil price change from 1986-01-01 to 2018-11-13')\n",
    "\n",
    "# Rotate x-labels\n",
    "ax.tick_params(axis = 'x', rotation = 45)\n",
    "\n",
    "# Show graph\n",
    "plt.show()\n",
    "plt.close()"
   ]
  },
  {
   "cell_type": "code",
   "execution_count": 259,
   "metadata": {},
   "outputs": [
    {
     "data": {
      "text/html": [
       "<div>\n",
       "<style scoped>\n",
       "    .dataframe tbody tr th:only-of-type {\n",
       "        vertical-align: middle;\n",
       "    }\n",
       "\n",
       "    .dataframe tbody tr th {\n",
       "        vertical-align: top;\n",
       "    }\n",
       "\n",
       "    .dataframe thead th {\n",
       "        text-align: right;\n",
       "    }\n",
       "</style>\n",
       "<table border=\"1\" class=\"dataframe\">\n",
       "  <thead>\n",
       "    <tr style=\"text-align: right;\">\n",
       "      <th></th>\n",
       "      <th>price</th>\n",
       "    </tr>\n",
       "    <tr>\n",
       "      <th>date</th>\n",
       "      <th></th>\n",
       "    </tr>\n",
       "  </thead>\n",
       "  <tbody>\n",
       "    <tr>\n",
       "      <th>2008-07-03</th>\n",
       "      <td>145.31</td>\n",
       "    </tr>\n",
       "    <tr>\n",
       "      <th>2008-07-04</th>\n",
       "      <td>145.31</td>\n",
       "    </tr>\n",
       "  </tbody>\n",
       "</table>\n",
       "</div>"
      ],
      "text/plain": [
       "             price\n",
       "date              \n",
       "2008-07-03  145.31\n",
       "2008-07-04  145.31"
      ]
     },
     "execution_count": 259,
     "metadata": {},
     "output_type": "execute_result"
    }
   ],
   "source": [
    "oilwti[oilwti[\"price\"] == max(oilwti.price)]"
   ]
  },
  {
   "cell_type": "markdown",
   "metadata": {},
   "source": [
    "According to the plot, the crude oil price was relatively stable between 1986 and 1998, but started to gradually rise from 1999 and reached to its peak in July 2008. As explained by this wiki page (https://en.wikipedia.org/wiki/2000s_energy_crisis), these price increases can be attributed to many factors, including Middle East tension, soaring demand from China, the falling value of the U.S. dollar, reports showing a decline in petroleum reserves, worries over peak oil, and financial speculation. Since then, the oil price has been very volatile. \n",
    "\n",
    "This plot suggests that the short-term oil price can be strongly affected by certain recent geopolitical events, but may not be much affected by the long-term historical oil price. Other factors such as the oil demand and supply, market speculation also play an important role. Taking these factors into consideration may give us a better prediction of the short-term oil price. \n",
    "\n",
    "I will start with exploring the association between the current oil price and its historical price first, then try to incorporate other features that may have important impact on short term oil price. \n",
    "\n",
    "Since the goal is to predict the short-term daily oil price. I will only focus on the data starting from 2016 when the oil price hitted another local minimum and seemingly started a new cycle.  "
   ]
  },
  {
   "cell_type": "code",
   "execution_count": 260,
   "metadata": {},
   "outputs": [
    {
     "data": {
      "text/html": [
       "<div>\n",
       "<style scoped>\n",
       "    .dataframe tbody tr th:only-of-type {\n",
       "        vertical-align: middle;\n",
       "    }\n",
       "\n",
       "    .dataframe tbody tr th {\n",
       "        vertical-align: top;\n",
       "    }\n",
       "\n",
       "    .dataframe thead th {\n",
       "        text-align: right;\n",
       "    }\n",
       "</style>\n",
       "<table border=\"1\" class=\"dataframe\">\n",
       "  <thead>\n",
       "    <tr style=\"text-align: right;\">\n",
       "      <th></th>\n",
       "      <th>price</th>\n",
       "    </tr>\n",
       "    <tr>\n",
       "      <th>date</th>\n",
       "      <th></th>\n",
       "    </tr>\n",
       "  </thead>\n",
       "  <tbody>\n",
       "    <tr>\n",
       "      <th>2016-01-01</th>\n",
       "      <td>37.13</td>\n",
       "    </tr>\n",
       "    <tr>\n",
       "      <th>2016-01-04</th>\n",
       "      <td>36.81</td>\n",
       "    </tr>\n",
       "    <tr>\n",
       "      <th>2016-01-05</th>\n",
       "      <td>35.97</td>\n",
       "    </tr>\n",
       "    <tr>\n",
       "      <th>2016-01-06</th>\n",
       "      <td>33.97</td>\n",
       "    </tr>\n",
       "    <tr>\n",
       "      <th>2016-01-07</th>\n",
       "      <td>33.29</td>\n",
       "    </tr>\n",
       "  </tbody>\n",
       "</table>\n",
       "</div>"
      ],
      "text/plain": [
       "            price\n",
       "date             \n",
       "2016-01-01  37.13\n",
       "2016-01-04  36.81\n",
       "2016-01-05  35.97\n",
       "2016-01-06  33.97\n",
       "2016-01-07  33.29"
      ]
     },
     "execution_count": 260,
     "metadata": {},
     "output_type": "execute_result"
    }
   ],
   "source": [
    "shortdat = oilwti.loc[\"2016-01-01\":].copy()\n",
    "shortdat.head()"
   ]
  },
  {
   "cell_type": "code",
   "execution_count": 267,
   "metadata": {
    "scrolled": true
   },
   "outputs": [
    {
     "data": {
      "image/png": "[encoded data removed]",
      "text/plain": [
       "<Figure size 432x288 with 1 Axes>"
      ]
     },
     "metadata": {},
     "output_type": "display_data"
    }
   ],
   "source": [
    "f, ax = plt.subplots(1,1)\n",
    "ax.plot(shortdat['price'])\n",
    "\n",
    "# Add title\n",
    "ax.set_title('Daily oil price from 2016-01-01 to 2018-11-13')\n",
    "\n",
    "# Rotate x-labels\n",
    "ax.tick_params(axis = 'x', rotation = 45)\n",
    "\n",
    "# Show graph\n",
    "plt.show()\n",
    "plt.close()"
   ]
  },
  {
   "cell_type": "markdown",
   "metadata": {},
   "source": [
    "There is an obvious overall increasing trend but no obvious seasonal trend in the oil price in the past three years. Next I take a look at the autocorrelation structure and the partial autocorrelation structure of this time series. "
   ]
  },
  {
   "cell_type": "code",
   "execution_count": 262,
   "metadata": {},
   "outputs": [
    {
     "data": {
      "image/png": "[encoded data removed]",
      "text/plain": [
       "<Figure size 432x288 with 2 Axes>"
      ]
     },
     "metadata": {},
     "output_type": "display_data"
    }
   ],
   "source": [
    "# calculate the autocorrelation structure and partial autocorrelation structure of this time series\n",
    "#ACF and PACF plots:\n",
    "from statsmodels.tsa.stattools import acf, pacf\n",
    "acf_org = acf(shortdat.price, nlags=10)\n",
    "pacf_org = pacf(shortdat.price, nlags=10, method='ols')\n",
    "\n",
    "#Plot ACF:  \n",
    "plt.subplot(121)\n",
    "plt.plot(range(1, len(acf_org)), acf_org[1:])\n",
    "plt.axhline(y=0,linestyle='--',color='gray')\n",
    "plt.axhline(y=-1.96/np.sqrt(len(acf_org)),linestyle='--',color='gray')\n",
    "plt.axhline(y=1.96/np.sqrt(len(acf_org)),linestyle='--',color='gray')\n",
    "plt.title('Autocorrelation Function')\n",
    "\n",
    "#Plot PACF:\n",
    "plt.subplot(122)\n",
    "plt.plot(range(1, len(pacf_org)), pacf_org[1:])\n",
    "plt.axhline(y=0,linestyle='--',color='gray')\n",
    "plt.axhline(y=-1.96/np.sqrt(len(pacf_org)),linestyle='--',color='gray')\n",
    "plt.axhline(y=1.96/np.sqrt(len(pacf_org)),linestyle='--',color='gray')\n",
    "plt.title('Partial Autocorrelation Function')\n",
    "plt.tight_layout()"
   ]
  },
  {
   "cell_type": "markdown",
   "metadata": {},
   "source": [
    "The autocorrelation function (ACF) plot shows a very slow, linear decay pattern which is typical of a nonstationary time series. The PACF plot has a significant spike only at lag 1, meaning that all the higher-order autocorrelations are effectively explained by the lag-1 autocorrelation. Based on these two plots, lag1 differencing may be a good approach to stationarize this time series. So next I calculate the lag 1 difference of the series. "
   ]
  },
  {
   "cell_type": "code",
   "execution_count": 263,
   "metadata": {},
   "outputs": [
    {
     "data": {
      "text/html": [
       "<div>\n",
       "<style scoped>\n",
       "    .dataframe tbody tr th:only-of-type {\n",
       "        vertical-align: middle;\n",
       "    }\n",
       "\n",
       "    .dataframe tbody tr th {\n",
       "        vertical-align: top;\n",
       "    }\n",
       "\n",
       "    .dataframe thead th {\n",
       "        text-align: right;\n",
       "    }\n",
       "</style>\n",
       "<table border=\"1\" class=\"dataframe\">\n",
       "  <thead>\n",
       "    <tr style=\"text-align: right;\">\n",
       "      <th></th>\n",
       "      <th>price</th>\n",
       "      <th>lag1</th>\n",
       "    </tr>\n",
       "    <tr>\n",
       "      <th>date</th>\n",
       "      <th></th>\n",
       "      <th></th>\n",
       "    </tr>\n",
       "  </thead>\n",
       "  <tbody>\n",
       "    <tr>\n",
       "      <th>2016-01-01</th>\n",
       "      <td>37.13</td>\n",
       "      <td>0.00</td>\n",
       "    </tr>\n",
       "    <tr>\n",
       "      <th>2016-01-04</th>\n",
       "      <td>36.81</td>\n",
       "      <td>-0.32</td>\n",
       "    </tr>\n",
       "    <tr>\n",
       "      <th>2016-01-05</th>\n",
       "      <td>35.97</td>\n",
       "      <td>-0.84</td>\n",
       "    </tr>\n",
       "    <tr>\n",
       "      <th>2016-01-06</th>\n",
       "      <td>33.97</td>\n",
       "      <td>-2.00</td>\n",
       "    </tr>\n",
       "    <tr>\n",
       "      <th>2016-01-07</th>\n",
       "      <td>33.29</td>\n",
       "      <td>-0.68</td>\n",
       "    </tr>\n",
       "  </tbody>\n",
       "</table>\n",
       "</div>"
      ],
      "text/plain": [
       "            price  lag1\n",
       "date                   \n",
       "2016-01-01  37.13  0.00\n",
       "2016-01-04  36.81 -0.32\n",
       "2016-01-05  35.97 -0.84\n",
       "2016-01-06  33.97 -2.00\n",
       "2016-01-07  33.29 -0.68"
      ]
     },
     "execution_count": 263,
     "metadata": {},
     "output_type": "execute_result"
    }
   ],
   "source": [
    "shortdat[\"lag1\"] = shortdat.price.diff()\n",
    "shortdat.lag1[0] = 0\n",
    "shortdat.head()"
   ]
  },
  {
   "cell_type": "code",
   "execution_count": 268,
   "metadata": {},
   "outputs": [
    {
     "data": {
      "image/png": "[encoded data removed]",
      "text/plain": [
       "<Figure size 432x288 with 1 Axes>"
      ]
     },
     "metadata": {},
     "output_type": "display_data"
    }
   ],
   "source": [
    "_, ax = plt.subplots(1,1)\n",
    "ax.plot(shortdat['lag1'])\n",
    "# Add title\n",
    "ax.set_title('Lag 1 difference of the oil price from 2016-01-01 to 2018-11-13')\n",
    "# Rotate x-labels\n",
    "ax.tick_params(axis = 'x', rotation = 45)\n",
    "# Show graph\n",
    "plt.show()\n",
    "plt.close()"
   ]
  },
  {
   "cell_type": "markdown",
   "metadata": {},
   "source": [
    "The lag 1 series appears to be approximately stationary with no long-term trend. Now take a look at the ACF and PACF of this series:"
   ]
  },
  {
   "cell_type": "code",
   "execution_count": 265,
   "metadata": {},
   "outputs": [
    {
     "data": {
      "image/png": "[encoded data removed]",
      "text/plain": [
       "<Figure size 432x288 with 2 Axes>"
      ]
     },
     "metadata": {},
     "output_type": "display_data"
    }
   ],
   "source": [
    "acf_lag1 = acf(shortdat.lag1, nlags=10)\n",
    "pacf_lag1 = pacf(shortdat.lag1, nlags=10, method='ols')\n",
    "\n",
    "#Plot ACF:  \n",
    "plt.subplot(121)\n",
    "plt.plot(range(1, len(acf_lag1)), acf_lag1[1:])\n",
    "plt.axhline(y=0,linestyle='--',color='gray')\n",
    "plt.axhline(y=-1.96/np.sqrt(len(acf_lag1)),linestyle='--',color='gray')\n",
    "plt.axhline(y=1.96/np.sqrt(len(acf_lag1)),linestyle='--',color='gray')\n",
    "plt.title('Autocorrelation Function')\n",
    "\n",
    "#Plot PACF:\n",
    "plt.subplot(122)\n",
    "plt.plot(range(1, len(pacf_lag1)), pacf_lag1[1:])\n",
    "plt.axhline(y=0,linestyle='--',color='gray')\n",
    "plt.axhline(y=-1.96/np.sqrt(len(pacf_lag1)),linestyle='--',color='gray')\n",
    "plt.axhline(y=1.96/np.sqrt(len(pacf_lag1)),linestyle='--',color='gray')\n",
    "plt.title('Partial Autocorrelation Function')\n",
    "plt.tight_layout()"
   ]
  },
  {
   "cell_type": "markdown",
   "metadata": {},
   "source": [
    "The ACF and PACF plots suggest that the lag-1 difference of oil price at different times are almost independent. The oil price changes in a fashion same as random walk. Based on these observations, I fit a random walk model to the original time series data to obtain the long-term drift of the oil price (overall trend in the oil price change). "
   ]
  },
  {
   "cell_type": "code",
   "execution_count": 270,
   "metadata": {},
   "outputs": [
    {
     "name": "stderr",
     "output_type": "stream",
     "text": [
      "/Applications/anaconda3/lib/python3.6/site-packages/statsmodels/tsa/base/tsa_model.py:171: ValueWarning: No frequency information was provided, so inferred frequency B will be used.\n",
      "  % freq, ValueWarning)\n",
      "/Applications/anaconda3/lib/python3.6/site-packages/statsmodels/tsa/base/tsa_model.py:171: ValueWarning: No frequency information was provided, so inferred frequency B will be used.\n",
      "  % freq, ValueWarning)\n"
     ]
    },
    {
     "name": "stdout",
     "output_type": "stream",
     "text": [
      "                             ARIMA Model Results                              \n",
      "==============================================================================\n",
      "Dep. Variable:                D.price   No. Observations:                  747\n",
      "Model:                 ARIMA(0, 1, 0)   Log Likelihood               -1096.076\n",
      "Method:                           css   S.D. of innovations              1.050\n",
      "Date:                Tue, 13 Nov 2018   AIC                           2196.152\n",
      "Time:                        12:17:39   BIC                           2205.384\n",
      "Sample:                    01-04-2016   HQIC                          2199.710\n",
      "                         - 11-13-2018                                         \n",
      "==============================================================================\n",
      "                 coef    std err          z      P>|z|      [0.025      0.975]\n",
      "------------------------------------------------------------------------------\n",
      "const          0.0268      0.038      0.699      0.485      -0.048       0.102\n",
      "==============================================================================\n"
     ]
    },
    {
     "data": {
      "image/png": "[encoded data removed]",
      "text/plain": [
       "<Figure size 432x288 with 1 Axes>"
      ]
     },
     "metadata": {},
     "output_type": "display_data"
    },
    {
     "data": {
      "image/png": "[encoded data removed]",
      "text/plain": [
       "<Figure size 432x288 with 1 Axes>"
      ]
     },
     "metadata": {},
     "output_type": "display_data"
    },
    {
     "name": "stdout",
     "output_type": "stream",
     "text": [
      "                  0\n",
      "count  7.470000e+02\n",
      "mean  -6.182768e-17\n",
      "std    1.050257e+00\n",
      "min   -3.986827e+00\n",
      "25%   -6.018273e-01\n",
      "50%    1.317269e-02\n",
      "75%    5.931727e-01\n",
      "max    5.293173e+00\n"
     ]
    }
   ],
   "source": [
    "from statsmodels.tsa.arima_model import ARIMA\n",
    "mod = ARIMA(shortdat.price, order=(0,1,0))\n",
    "mod_fit = mod.fit(disp=0)\n",
    "print(mod_fit.summary())\n",
    "# plot residual errors\n",
    "residuals = pd.DataFrame(mod_fit.resid)\n",
    "residuals.plot()\n",
    "plt.show()\n",
    "# plot the distribution of the residual errors\n",
    "residuals.plot(kind='kde')\n",
    "plt.show()\n",
    "print(residuals.describe())"
   ]
  },
  {
   "cell_type": "markdown",
   "metadata": {},
   "source": [
    "The results suggest that there is a weak trend of 2.7 cents increase in the daily oil price in the past 3 years. Next we obtain the mean squared error (MSE) of this model through cross validation. "
   ]
  },
  {
   "cell_type": "code",
   "execution_count": 271,
   "metadata": {},
   "outputs": [
    {
     "name": "stderr",
     "output_type": "stream",
     "text": [
      "/Applications/anaconda3/lib/python3.6/site-packages/statsmodels/base/model.py:508: ConvergenceWarning: Maximum Likelihood optimization failed to converge. Check mle_retvals\n",
      "  \"Check mle_retvals\", ConvergenceWarning)\n",
      "/Applications/anaconda3/lib/python3.6/site-packages/statsmodels/base/model.py:508: ConvergenceWarning: Maximum Likelihood optimization failed to converge. Check mle_retvals\n",
      "  \"Check mle_retvals\", ConvergenceWarning)\n",
      "/Applications/anaconda3/lib/python3.6/site-packages/statsmodels/base/model.py:508: ConvergenceWarning: Maximum Likelihood optimization failed to converge. Check mle_retvals\n",
      "  \"Check mle_retvals\", ConvergenceWarning)\n"
     ]
    },
    {
     "name": "stdout",
     "output_type": "stream",
     "text": [
      "Test MSE: 1.290\n"
     ]
    },
    {
     "data": {
      "image/png": "[encoded data removed]",
      "text/plain": [
       "<Figure size 432x288 with 1 Axes>"
      ]
     },
     "metadata": {},
     "output_type": "display_data"
    }
   ],
   "source": [
    "from sklearn.metrics import mean_squared_error\n",
    "X = shortdat.price.values\n",
    "size = int(len(X) * 0.66)\n",
    "train, test = X[0:size], X[size:len(X)]\n",
    "history = [x for x in train]\n",
    "predictions = list()\n",
    "for t in range(len(test)):\n",
    "    model = ARIMA(history, order=(0,1,0))\n",
    "    model_fit = model.fit(disp=-1)\n",
    "    output = model_fit.forecast()\n",
    "    yhat = output[0]\n",
    "    predictions.append(yhat)\n",
    "    obs = test[t]\n",
    "    history.append(obs)\n",
    "  #  print('predicted=%f, true=%f' % (yhat, obs))\n",
    "error = mean_squared_error(test, predictions)\n",
    "print('Test MSE: %.3f' % error)\n",
    "# plot\n",
    "plt.plot(test)\n",
    "plt.plot(predictions, color='blue')\n",
    "plt.show()\n"
   ]
  },
  {
   "cell_type": "markdown",
   "metadata": {},
   "source": [
    "**Based on this model, let's predict the price in the next 3 days, the results below suggest that the predicted oil price on Friday based on this model is $57.25. **"
   ]
  },
  {
   "cell_type": "code",
   "execution_count": 272,
   "metadata": {},
   "outputs": [
    {
     "name": "stdout",
     "output_type": "stream",
     "text": [
      "[57.19682731 57.22365462 57.25048193]\n"
     ]
    }
   ],
   "source": [
    "predict = mod_fit.forecast(steps=3)[0]\n",
    "print(predict)"
   ]
  },
  {
   "cell_type": "markdown",
   "metadata": {},
   "source": [
    "This random walk model obviously is not an ideal model for oil price prediction, because it only takes into account the historical oil price. As I discussed earlier, the short-term oil price may not so much depend on its historical price but may be strongly affected by many other factors such as supply and demand, financial market, commodities market, speculative, and geopolitical. So next, I try to incorporate these factors into the model. \n",
    "\n",
    "I collected the following data as proxies for these various factors: \n",
    "\n",
    "\n",
    "**CBOE Crude Oil ETF Volatility Index**: a measure of the market's expectation of 30-day volatility of crude oil prices.\n",
    "\n",
    "**MSCI ACWI Index**: The MSCI ACWI captures large and mid cap representation across 23 Developed Markets (DM) and 24 Emerging Markets (EM) countries*. With 2,791 constituents, the index covers approximately 85% of the global investable equity opportunity set.\n",
    "\n",
    "**Effective Federal Funds Rate**: the central interest rate in the U.S. financial market. It influences other interest rates such as the prime rate, which is the rate banks charge their customers with higher credit ratings. Additionally, the federal funds rate indirectly influences longer- term interest rates such as mortgages, loans, and savings, all of which are very important to consumer wealth and confidence.\n",
    "\n",
    "**3-Month Treasury Bill Rate**: a measure represent immediate sentiments in consumer-saving behavior.\n",
    "\n",
    "**S\\&P 500 Index**: is a market-capitalization-weighted index of the 500 largest U.S. publicly traded companies by market value, The index is widely regarded as the best single gauge of large-cap U.S. equities.\n",
    "\n",
    "\n",
    "**Gold Fixing Price**: 3:00 P.M. (London time) in London Bullion Market, based in U.S. Dollars.\n",
    "\n",
    "These data were all downloaded from https://fred.stlouisfed.org. \n",
    "\n",
    "**market sentiment based on twitter data**: On top of these data, to get the sentiment of the market about oil price, I resort to Twitter. To get historical tweets, I use a Python tool called GetOldTweets which I found from the following github repo: https://github.com/Jefferson-Henrique/GetOldTweets-python. I download the tweet results based on the query search “oil price opec”, which I think will be more relevant to our context. The date range is from 2015-12-15 to 2018-11-13. Due to the time limit and weak internet connection, I limit the return of the query to 200-300 each day. This gives me the result table_big_new.csv, which includes 244700 rows. The code to get data is in get_twitter_data.py.\n",
    "\n",
    "Unfortunately, for some reason, a lot of extracted tweets are repeated. So I have to clean the data and eliminate the duplicated results. This leads to 16677 rows remained in the dataset. I then eliminated the url address in the end of text and use NLTK package to get the sentiment score of each tweet texts. The result is stored in tweet_nodup_sentiment_new.csv.\n",
    "\n",
    "Finally I group tweets of the same day together and aggregate the sentiment score, so I have one market sentiment score for each day in the range of dates I consider. This is sentiment_byday_big_new.csv. The code of the above mentioned data processing steps can be found in process_tweet_data.py. \n",
    "\n",
    "\n",
    "Because previous analysis suggests that the daily oil price changes are almost indenpendently and normally distributed. I will build a linear regreesion to predict the daily price change based on all the factors described above. Since the goal is to predict the oil price on Friday, and I have access to most data only up to today (Tuesday) or last Friday. I will adjust the lagged information to predict the current price change.  "
   ]
  },
  {
   "cell_type": "code",
   "execution_count": 273,
   "metadata": {},
   "outputs": [],
   "source": [
    "#Read all the above data now\n",
    "gold = pd.read_csv('GOLDPMGBD228NLBM.csv')\n",
    "dff = pd.read_csv('DFF.csv')\n",
    "acwi = pd.read_csv('acwi.csv')\n",
    "sp500 = pd.read_csv('SP500.csv')\n",
    "dtb = pd.read_csv('DTB3.csv')\n",
    "ovx = pd.read_csv('OVXCLS.csv')\n",
    "twit = pd.read_csv(\"sentiment_byday_big_new.csv\", names = ['date', 'sentiment'])"
   ]
  },
  {
   "cell_type": "code",
   "execution_count": 310,
   "metadata": {
    "scrolled": true
   },
   "outputs": [],
   "source": [
    "gold = gold.rename(columns = {'DATE': 'date', 'GOLDPMGBD228NLBM': 'price'})\n",
    "gold.replace(to_replace='.', value=np.nan, inplace=True)\n",
    "gold = gold.fillna(method=\"ffill\")\n",
    "gold.price = gold.price.astype(np.float64)\n",
    "gold['date'] = pd.to_datetime(gold['date'])\n",
    "gold.set_index('date', inplace=True)"
   ]
  },
  {
   "cell_type": "code",
   "execution_count": 329,
   "metadata": {},
   "outputs": [
    {
     "name": "stdout",
     "output_type": "stream",
     "text": [
      "<class 'pandas.core.frame.DataFrame'>\n",
      "DatetimeIndex: 23507 entries, 1954-07-01 to 2018-11-08\n",
      "Data columns (total 1 columns):\n",
      "fundsrate    23507 non-null float64\n",
      "dtypes: float64(1)\n",
      "memory usage: 367.3 KB\n"
     ]
    }
   ],
   "source": [
    "dff = dff.rename(columns = {'DATE': 'date', 'DFF': 'fundsrate'})\n",
    "dff.info()\n",
    "dff.isnull().sum()\n",
    "dff['date'] = pd.to_datetime(dff['date'])\n",
    "dff.set_index('date', inplace=True)"
   ]
  },
  {
   "cell_type": "code",
   "execution_count": 334,
   "metadata": {},
   "outputs": [
    {
     "name": "stdout",
     "output_type": "stream",
     "text": [
      "<class 'pandas.core.frame.DataFrame'>\n",
      "RangeIndex: 1046 entries, 0 to 1045\n",
      "Data columns (total 2 columns):\n",
      "Date                              1046 non-null object\n",
      "ACWI Standard (Large+Mid Cap)     1046 non-null float64\n",
      "dtypes: float64(1), object(1)\n",
      "memory usage: 16.4+ KB\n"
     ]
    }
   ],
   "source": [
    "acwi.info()\n",
    "acwi.columns = ['date', 'acwistd']\n",
    "acwi.isnull().sum()\n",
    "acwi['date'] = pd.to_datetime(acwi['date'])\n",
    "acwi.set_index('date', inplace=True)"
   ]
  },
  {
   "cell_type": "code",
   "execution_count": 348,
   "metadata": {},
   "outputs": [
    {
     "name": "stdout",
     "output_type": "stream",
     "text": [
      "<class 'pandas.core.frame.DataFrame'>\n",
      "RangeIndex: 2609 entries, 0 to 2608\n",
      "Data columns (total 2 columns):\n",
      "date        2609 non-null object\n",
      "sp500idx    2609 non-null object\n",
      "dtypes: object(2)\n",
      "memory usage: 40.8+ KB\n"
     ]
    }
   ],
   "source": [
    "sp500.info()\n",
    "sp500.columns = ['date', 'sp500idx']\n",
    "sp500.replace(to_replace='.', value=np.nan, inplace=True)\n",
    "sp500 = sp500.fillna(method=\"ffill\")\n",
    "sp500.sp500idx = sp500.sp500idx.astype(np.float64)\n",
    "sp500['date'] = pd.to_datetime(sp500['date'])\n",
    "sp500.set_index('date', inplace=True)"
   ]
  },
  {
   "cell_type": "code",
   "execution_count": 352,
   "metadata": {},
   "outputs": [
    {
     "name": "stdout",
     "output_type": "stream",
     "text": [
      "<class 'pandas.core.frame.DataFrame'>\n",
      "RangeIndex: 16919 entries, 0 to 16918\n",
      "Data columns (total 2 columns):\n",
      "DATE    16919 non-null object\n",
      "DTB3    16919 non-null object\n",
      "dtypes: object(2)\n",
      "memory usage: 264.4+ KB\n"
     ]
    }
   ],
   "source": [
    "dtb.info()\n",
    "dtb.columns = ['date', 'dtb3']\n",
    "dtb.replace(to_replace='.', value=np.nan, inplace=True)\n",
    "dtb = dtb.fillna(method=\"ffill\")\n",
    "dtb.dtb3 = dtb.dtb3.astype(np.float64)\n",
    "dtb['date'] = pd.to_datetime(dtb['date'])\n",
    "dtb.set_index('date', inplace=True)"
   ]
  },
  {
   "cell_type": "code",
   "execution_count": 355,
   "metadata": {},
   "outputs": [
    {
     "name": "stdout",
     "output_type": "stream",
     "text": [
      "<class 'pandas.core.frame.DataFrame'>\n",
      "RangeIndex: 1305 entries, 0 to 1304\n",
      "Data columns (total 2 columns):\n",
      "DATE      1305 non-null object\n",
      "OVXCLS    1305 non-null object\n",
      "dtypes: object(2)\n",
      "memory usage: 20.5+ KB\n"
     ]
    }
   ],
   "source": [
    "ovx.info()\n",
    "ovx.columns = ['date', 'ovxcls']\n",
    "ovx.replace(to_replace='.', value=np.nan, inplace=True)\n",
    "ovx = ovx.fillna(method=\"ffill\")\n",
    "ovx.ovxcls = ovx.ovxcls.astype(np.float64)\n",
    "ovx['date'] = pd.to_datetime(ovx['date'])\n",
    "ovx.set_index('date', inplace=True)"
   ]
  },
  {
   "cell_type": "code",
   "execution_count": 327,
   "metadata": {},
   "outputs": [],
   "source": [
    "twit['date'] = pd.to_datetime(twit['date'])\n",
    "twit.set_index('date', inplace=True)"
   ]
  },
  {
   "cell_type": "code",
   "execution_count": 357,
   "metadata": {},
   "outputs": [
    {
     "name": "stdout",
     "output_type": "stream",
     "text": [
      "<class 'pandas.core.frame.DataFrame'>\n",
      "DatetimeIndex: 1065 entries, 2015-12-15 to 2018-11-13\n",
      "Data columns (total 1 columns):\n",
      "sentiment    1065 non-null float64\n",
      "dtypes: float64(1)\n",
      "memory usage: 16.6 KB\n"
     ]
    }
   ],
   "source": [
    "twit.info()"
   ]
  },
  {
   "cell_type": "code",
   "execution_count": 380,
   "metadata": {},
   "outputs": [],
   "source": [
    "data_frames = [twit, ovx, dtb, sp500, acwi, dff, gold]\n",
    "df = twit.copy()\n",
    "for i in range(1, len(data_frames)):\n",
    "    df = df.merge(right=data_frames[i], on='date', how='left')"
   ]
  },
  {
   "cell_type": "code",
   "execution_count": 407,
   "metadata": {},
   "outputs": [
    {
     "data": {
      "text/html": [
       "<div>\n",
       "<style scoped>\n",
       "    .dataframe tbody tr th:only-of-type {\n",
       "        vertical-align: middle;\n",
       "    }\n",
       "\n",
       "    .dataframe tbody tr th {\n",
       "        vertical-align: top;\n",
       "    }\n",
       "\n",
       "    .dataframe thead th {\n",
       "        text-align: right;\n",
       "    }\n",
       "</style>\n",
       "<table border=\"1\" class=\"dataframe\">\n",
       "  <thead>\n",
       "    <tr style=\"text-align: right;\">\n",
       "      <th></th>\n",
       "      <th>sentiment</th>\n",
       "      <th>ovxcls</th>\n",
       "      <th>dtb3</th>\n",
       "      <th>sp500idx</th>\n",
       "      <th>acwistd</th>\n",
       "      <th>fundsrate</th>\n",
       "      <th>price</th>\n",
       "    </tr>\n",
       "    <tr>\n",
       "      <th>date</th>\n",
       "      <th></th>\n",
       "      <th></th>\n",
       "      <th></th>\n",
       "      <th></th>\n",
       "      <th></th>\n",
       "      <th></th>\n",
       "      <th></th>\n",
       "    </tr>\n",
       "  </thead>\n",
       "  <tbody>\n",
       "    <tr>\n",
       "      <th>2018-10-30</th>\n",
       "      <td>-0.399960</td>\n",
       "      <td>29.90</td>\n",
       "      <td>2.29</td>\n",
       "      <td>2682.63</td>\n",
       "      <td>478.191</td>\n",
       "      <td>2.20</td>\n",
       "      <td>1225.40</td>\n",
       "    </tr>\n",
       "    <tr>\n",
       "      <th>2018-10-31</th>\n",
       "      <td>-0.011218</td>\n",
       "      <td>30.12</td>\n",
       "      <td>2.29</td>\n",
       "      <td>2711.74</td>\n",
       "      <td>484.571</td>\n",
       "      <td>2.20</td>\n",
       "      <td>1214.95</td>\n",
       "    </tr>\n",
       "    <tr>\n",
       "      <th>2018-11-01</th>\n",
       "      <td>-0.003350</td>\n",
       "      <td>31.54</td>\n",
       "      <td>2.27</td>\n",
       "      <td>2740.37</td>\n",
       "      <td>489.476</td>\n",
       "      <td>2.20</td>\n",
       "      <td>1231.15</td>\n",
       "    </tr>\n",
       "    <tr>\n",
       "      <th>2018-11-02</th>\n",
       "      <td>-0.050221</td>\n",
       "      <td>32.21</td>\n",
       "      <td>2.28</td>\n",
       "      <td>2723.06</td>\n",
       "      <td>489.974</td>\n",
       "      <td>2.19</td>\n",
       "      <td>1232.10</td>\n",
       "    </tr>\n",
       "    <tr>\n",
       "      <th>2018-11-05</th>\n",
       "      <td>-0.127380</td>\n",
       "      <td>32.68</td>\n",
       "      <td>2.32</td>\n",
       "      <td>2738.31</td>\n",
       "      <td>490.583</td>\n",
       "      <td>2.20</td>\n",
       "      <td>1232.25</td>\n",
       "    </tr>\n",
       "    <tr>\n",
       "      <th>2018-11-06</th>\n",
       "      <td>-0.088638</td>\n",
       "      <td>34.15</td>\n",
       "      <td>2.31</td>\n",
       "      <td>2755.45</td>\n",
       "      <td>492.704</td>\n",
       "      <td>2.20</td>\n",
       "      <td>1231.60</td>\n",
       "    </tr>\n",
       "    <tr>\n",
       "      <th>2018-11-07</th>\n",
       "      <td>-0.211605</td>\n",
       "      <td>33.05</td>\n",
       "      <td>2.32</td>\n",
       "      <td>2813.89</td>\n",
       "      <td>500.232</td>\n",
       "      <td>2.20</td>\n",
       "      <td>1229.95</td>\n",
       "    </tr>\n",
       "    <tr>\n",
       "      <th>2018-11-08</th>\n",
       "      <td>-0.026405</td>\n",
       "      <td>32.23</td>\n",
       "      <td>2.30</td>\n",
       "      <td>2806.83</td>\n",
       "      <td>499.566</td>\n",
       "      <td>2.20</td>\n",
       "      <td>1224.15</td>\n",
       "    </tr>\n",
       "    <tr>\n",
       "      <th>2018-11-09</th>\n",
       "      <td>-0.293230</td>\n",
       "      <td>35.10</td>\n",
       "      <td>2.30</td>\n",
       "      <td>2781.01</td>\n",
       "      <td>494.482</td>\n",
       "      <td>2.20</td>\n",
       "      <td>1211.40</td>\n",
       "    </tr>\n",
       "    <tr>\n",
       "      <th>2018-11-12</th>\n",
       "      <td>0.098085</td>\n",
       "      <td>40.14</td>\n",
       "      <td>2.30</td>\n",
       "      <td>2726.22</td>\n",
       "      <td>486.569</td>\n",
       "      <td>2.20</td>\n",
       "      <td>1205.55</td>\n",
       "    </tr>\n",
       "  </tbody>\n",
       "</table>\n",
       "</div>"
      ],
      "text/plain": [
       "            sentiment  ovxcls  dtb3  sp500idx  acwistd  fundsrate    price\n",
       "date                                                                      \n",
       "2018-10-30  -0.399960   29.90  2.29   2682.63  478.191       2.20  1225.40\n",
       "2018-10-31  -0.011218   30.12  2.29   2711.74  484.571       2.20  1214.95\n",
       "2018-11-01  -0.003350   31.54  2.27   2740.37  489.476       2.20  1231.15\n",
       "2018-11-02  -0.050221   32.21  2.28   2723.06  489.974       2.19  1232.10\n",
       "2018-11-05  -0.127380   32.68  2.32   2738.31  490.583       2.20  1232.25\n",
       "2018-11-06  -0.088638   34.15  2.31   2755.45  492.704       2.20  1231.60\n",
       "2018-11-07  -0.211605   33.05  2.32   2813.89  500.232       2.20  1229.95\n",
       "2018-11-08  -0.026405   32.23  2.30   2806.83  499.566       2.20  1224.15\n",
       "2018-11-09  -0.293230   35.10  2.30   2781.01  494.482       2.20  1211.40\n",
       "2018-11-12   0.098085   40.14  2.30   2726.22  486.569       2.20  1205.55"
      ]
     },
     "execution_count": 407,
     "metadata": {},
     "output_type": "execute_result"
    }
   ],
   "source": [
    "df.tail(10)"
   ]
  },
  {
   "cell_type": "code",
   "execution_count": 387,
   "metadata": {},
   "outputs": [],
   "source": [
    "df.loc['2018-11-09', 'dtb3'] = df.loc['2018-11-08', 'dtb3']\n",
    "df.loc['2018-11-12', 'dtb3'] = df.loc['2018-11-08', 'dtb3']\n",
    "df.loc['2018-11-09', 'fundsrate'] = df.loc['2018-11-08', 'fundsrate']\n",
    "df.loc['2018-11-12', 'fundsrate'] = df.loc['2018-11-08', 'fundsrate']\n",
    "df.dropna(inplace=True)"
   ]
  },
  {
   "cell_type": "code",
   "execution_count": 408,
   "metadata": {},
   "outputs": [
    {
     "data": {
      "text/html": [
       "<div>\n",
       "<style scoped>\n",
       "    .dataframe tbody tr th:only-of-type {\n",
       "        vertical-align: middle;\n",
       "    }\n",
       "\n",
       "    .dataframe tbody tr th {\n",
       "        vertical-align: top;\n",
       "    }\n",
       "\n",
       "    .dataframe thead th {\n",
       "        text-align: right;\n",
       "    }\n",
       "</style>\n",
       "<table border=\"1\" class=\"dataframe\">\n",
       "  <thead>\n",
       "    <tr style=\"text-align: right;\">\n",
       "      <th></th>\n",
       "      <th>sentiment</th>\n",
       "      <th>ovxcls</th>\n",
       "      <th>dtb3</th>\n",
       "      <th>sp500idx</th>\n",
       "      <th>acwistd</th>\n",
       "      <th>fundsrate</th>\n",
       "      <th>price</th>\n",
       "    </tr>\n",
       "    <tr>\n",
       "      <th>date</th>\n",
       "      <th></th>\n",
       "      <th></th>\n",
       "      <th></th>\n",
       "      <th></th>\n",
       "      <th></th>\n",
       "      <th></th>\n",
       "      <th></th>\n",
       "    </tr>\n",
       "  </thead>\n",
       "  <tbody>\n",
       "    <tr>\n",
       "      <th>2018-10-30</th>\n",
       "      <td>-0.399960</td>\n",
       "      <td>29.90</td>\n",
       "      <td>2.29</td>\n",
       "      <td>2682.63</td>\n",
       "      <td>478.191</td>\n",
       "      <td>2.20</td>\n",
       "      <td>1225.40</td>\n",
       "    </tr>\n",
       "    <tr>\n",
       "      <th>2018-10-31</th>\n",
       "      <td>-0.011218</td>\n",
       "      <td>30.12</td>\n",
       "      <td>2.29</td>\n",
       "      <td>2711.74</td>\n",
       "      <td>484.571</td>\n",
       "      <td>2.20</td>\n",
       "      <td>1214.95</td>\n",
       "    </tr>\n",
       "    <tr>\n",
       "      <th>2018-11-01</th>\n",
       "      <td>-0.003350</td>\n",
       "      <td>31.54</td>\n",
       "      <td>2.27</td>\n",
       "      <td>2740.37</td>\n",
       "      <td>489.476</td>\n",
       "      <td>2.20</td>\n",
       "      <td>1231.15</td>\n",
       "    </tr>\n",
       "    <tr>\n",
       "      <th>2018-11-02</th>\n",
       "      <td>-0.050221</td>\n",
       "      <td>32.21</td>\n",
       "      <td>2.28</td>\n",
       "      <td>2723.06</td>\n",
       "      <td>489.974</td>\n",
       "      <td>2.19</td>\n",
       "      <td>1232.10</td>\n",
       "    </tr>\n",
       "    <tr>\n",
       "      <th>2018-11-05</th>\n",
       "      <td>-0.127380</td>\n",
       "      <td>32.68</td>\n",
       "      <td>2.32</td>\n",
       "      <td>2738.31</td>\n",
       "      <td>490.583</td>\n",
       "      <td>2.20</td>\n",
       "      <td>1232.25</td>\n",
       "    </tr>\n",
       "    <tr>\n",
       "      <th>2018-11-06</th>\n",
       "      <td>-0.088638</td>\n",
       "      <td>34.15</td>\n",
       "      <td>2.31</td>\n",
       "      <td>2755.45</td>\n",
       "      <td>492.704</td>\n",
       "      <td>2.20</td>\n",
       "      <td>1231.60</td>\n",
       "    </tr>\n",
       "    <tr>\n",
       "      <th>2018-11-07</th>\n",
       "      <td>-0.211605</td>\n",
       "      <td>33.05</td>\n",
       "      <td>2.32</td>\n",
       "      <td>2813.89</td>\n",
       "      <td>500.232</td>\n",
       "      <td>2.20</td>\n",
       "      <td>1229.95</td>\n",
       "    </tr>\n",
       "    <tr>\n",
       "      <th>2018-11-08</th>\n",
       "      <td>-0.026405</td>\n",
       "      <td>32.23</td>\n",
       "      <td>2.30</td>\n",
       "      <td>2806.83</td>\n",
       "      <td>499.566</td>\n",
       "      <td>2.20</td>\n",
       "      <td>1224.15</td>\n",
       "    </tr>\n",
       "    <tr>\n",
       "      <th>2018-11-09</th>\n",
       "      <td>-0.293230</td>\n",
       "      <td>35.10</td>\n",
       "      <td>2.30</td>\n",
       "      <td>2781.01</td>\n",
       "      <td>494.482</td>\n",
       "      <td>2.20</td>\n",
       "      <td>1211.40</td>\n",
       "    </tr>\n",
       "    <tr>\n",
       "      <th>2018-11-12</th>\n",
       "      <td>0.098085</td>\n",
       "      <td>40.14</td>\n",
       "      <td>2.30</td>\n",
       "      <td>2726.22</td>\n",
       "      <td>486.569</td>\n",
       "      <td>2.20</td>\n",
       "      <td>1205.55</td>\n",
       "    </tr>\n",
       "  </tbody>\n",
       "</table>\n",
       "</div>"
      ],
      "text/plain": [
       "            sentiment  ovxcls  dtb3  sp500idx  acwistd  fundsrate    price\n",
       "date                                                                      \n",
       "2018-10-30  -0.399960   29.90  2.29   2682.63  478.191       2.20  1225.40\n",
       "2018-10-31  -0.011218   30.12  2.29   2711.74  484.571       2.20  1214.95\n",
       "2018-11-01  -0.003350   31.54  2.27   2740.37  489.476       2.20  1231.15\n",
       "2018-11-02  -0.050221   32.21  2.28   2723.06  489.974       2.19  1232.10\n",
       "2018-11-05  -0.127380   32.68  2.32   2738.31  490.583       2.20  1232.25\n",
       "2018-11-06  -0.088638   34.15  2.31   2755.45  492.704       2.20  1231.60\n",
       "2018-11-07  -0.211605   33.05  2.32   2813.89  500.232       2.20  1229.95\n",
       "2018-11-08  -0.026405   32.23  2.30   2806.83  499.566       2.20  1224.15\n",
       "2018-11-09  -0.293230   35.10  2.30   2781.01  494.482       2.20  1211.40\n",
       "2018-11-12   0.098085   40.14  2.30   2726.22  486.569       2.20  1205.55"
      ]
     },
     "execution_count": 408,
     "metadata": {},
     "output_type": "execute_result"
    }
   ],
   "source": [
    "df.tail(10)"
   ]
  },
  {
   "cell_type": "code",
   "execution_count": 393,
   "metadata": {},
   "outputs": [],
   "source": [
    "df = df['2015-12-29':]"
   ]
  },
  {
   "cell_type": "code",
   "execution_count": 398,
   "metadata": {},
   "outputs": [
    {
     "data": {
      "text/plain": [
       "LinearRegression(copy_X=True, fit_intercept=True, n_jobs=None,\n",
       "         normalize=False)"
      ]
     },
     "execution_count": 398,
     "metadata": {},
     "output_type": "execute_result"
    }
   ],
   "source": [
    "from sklearn import linear_model\n",
    "from sklearn.metrics import mean_squared_error, r2_score\n",
    "\n",
    "# Create linear regression object\n",
    "regr = linear_model.LinearRegression()\n",
    "\n",
    "# Train the model using the training sets\n",
    "regr.fit(df[:'2018-11-07'].values, shortdat['lag1'].values)"
   ]
  },
  {
   "cell_type": "code",
   "execution_count": 401,
   "metadata": {},
   "outputs": [
    {
     "data": {
      "text/plain": [
       "array([-0.08301351, -0.08702059, -0.04136383])"
      ]
     },
     "execution_count": 401,
     "metadata": {},
     "output_type": "execute_result"
    }
   ],
   "source": [
    "# Make predictions using the testing set\n",
    "y_pred = regr.predict(df[\"2018-11-08\":])\n",
    "y_pred"
   ]
  },
  {
   "cell_type": "code",
   "execution_count": 409,
   "metadata": {},
   "outputs": [
    {
     "data": {
      "text/plain": [
       "57.17"
      ]
     },
     "execution_count": 409,
     "metadata": {},
     "output_type": "execute_result"
    }
   ],
   "source": [
    "shortdat[\"price\"][-1]"
   ]
  },
  {
   "cell_type": "markdown",
   "metadata": {},
   "source": [
    "Based on today's oil price 57.17, the estimated oil price in the following 3 days are:"
   ]
  },
  {
   "cell_type": "code",
   "execution_count": 404,
   "metadata": {},
   "outputs": [
    {
     "data": {
      "text/plain": [
       "array([57.08698649, 56.99996591, 56.95860208])"
      ]
     },
     "execution_count": 404,
     "metadata": {},
     "output_type": "execute_result"
    }
   ],
   "source": [
    "np.cumsum(y_pred)+shortdat[\"price\"][-1]"
   ]
  },
  {
   "cell_type": "markdown",
   "metadata": {},
   "source": [
    "**Based on this model, the estimated oil price on Friday is \\$56.96.**\n",
    "**Recall that the estimated price on Friday is \\$57.25 based on the 1st random walk model. **"
   ]
  },
  {
   "cell_type": "markdown",
   "metadata": {},
   "source": [
    "Due to time limitation, I did not cross validate the above linear model. The features adjusted in the model also need to be further examined to see if there is any non-linear assocations. "
   ]
  }
 ],
 "metadata": {
  "kernelspec": {
   "display_name": "Python 3",
   "language": "python",
   "name": "python3"
  },
  "language_info": {
   "codemirror_mode": {
    "name": "ipython",
    "version": 3
   },
   "file_extension": ".py",
   "mimetype": "text/x-python",
   "name": "python",
   "nbconvert_exporter": "python",
   "pygments_lexer": "ipython3",
   "version": "3.6.5"
  }
 },
 "nbformat": 4,
 "nbformat_minor": 2
}
